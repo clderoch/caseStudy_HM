{
 "cells": [
  {
   "cell_type": "markdown",
   "id": "6dfc7ed6",
   "metadata": {},
   "source": [
    "# Fraud Analysis - Data Import and Exploration\n",
    "\n",
    "This notebook analyzes the Lead Fraud Analyst Case Assessment Data to examine fraud patterns and model performance."
   ]
  },
  {
   "cell_type": "markdown",
   "id": "6814f7d8",
   "metadata": {},
   "source": [
    "## Import Required Libraries\n",
    "\n",
    "Import pandas and numpy for data manipulation and analysis."
   ]
  },
  {
   "cell_type": "code",
   "execution_count": null,
   "id": "a9b8acac",
   "metadata": {},
   "outputs": [],
   "source": [
    "import pandas as pd\n",
    "import numpy as np"
   ]
  },
  {
   "cell_type": "markdown",
   "id": "bcbd14ca",
   "metadata": {},
   "source": [
    "## Load the Dataset\n",
    "\n",
    "Load the fraud analysis data from the CSV file into a pandas DataFrame called `df`."
   ]
  },
  {
   "cell_type": "code",
   "execution_count": null,
   "id": "374ccdbe",
   "metadata": {},
   "outputs": [],
   "source": [
    "# Load the fraud analysis data\n",
    "df = pd.read_csv(r'C:\\Users\\craig\\caseStudy_HM\\Lead Fraud Analyst _Case_Assessment_Data.csv')\n",
    "\n",
    "# Display basic information about the dataset\n",
    "print(\"Dataset shape:\", df.shape)\n",
    "print(\"\\nColumn names:\")\n",
    "print(df.columns.tolist())"
   ]
  },
  {
   "cell_type": "markdown",
   "id": "35a6fce1",
   "metadata": {},
   "source": [
    "## Initial Data Exploration\n",
    "\n",
    "Examine the first few rows of the dataset to understand the structure."
   ]
  },
  {
   "cell_type": "code",
   "execution_count": null,
   "id": "9a9b9c2d",
   "metadata": {},
   "outputs": [],
   "source": [
    "# Display the first few rows\n",
    "print(\"First few rows:\")\n",
    "df.head()"
   ]
  },
  {
   "cell_type": "markdown",
   "id": "434702b1",
   "metadata": {},
   "source": [
    "## Data Types and Structure\n",
    "\n",
    "Examine the data types of each column to understand the data structure."
   ]
  },
  {
   "cell_type": "code",
   "execution_count": null,
   "id": "d43a963e",
   "metadata": {},
   "outputs": [],
   "source": [
    "# Display data types\n",
    "print(\"Data types:\")\n",
    "print(df.dtypes)"
   ]
  },
  {
   "cell_type": "markdown",
   "id": "0c6c3405",
   "metadata": {},
   "source": [
    "## Basic Statistical Summary\n",
    "\n",
    "Generate basic statistics for numerical columns in the dataset."
   ]
  },
  {
   "cell_type": "code",
   "execution_count": null,
   "id": "4969dd36",
   "metadata": {},
   "outputs": [],
   "source": [
    "# Display basic statistics\n",
    "print(\"Basic statistics:\")\n",
    "df.describe()"
   ]
  }
 ],
 "metadata": {
  "language_info": {
   "name": "python"
  }
 },
 "nbformat": 4,
 "nbformat_minor": 5
}
